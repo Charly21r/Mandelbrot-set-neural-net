{
 "cells": [
  {
   "cell_type": "code",
   "execution_count": 13,
   "id": "ac002936",
   "metadata": {},
   "outputs": [],
   "source": [
    "import numpy as np\n",
    "import pandas as pd\n",
    "import torch\n",
    "import torch.nn as nn\n",
    "import torch.optim as optim\n",
    "import random"
   ]
  },
  {
   "cell_type": "markdown",
   "id": "605ec84e",
   "metadata": {},
   "source": [
    "### The Mandelbrot set\n",
    "The Mandelbrot set is a two-dimensional set that is defined in the complex plane as the complex numbers $c$ for which the function $f_c(z) = z^2 + c $ does not diverge to infinity when iterated starting at $z=0$.\n",
    "\n",
    "Interesting properties:\n",
    "- A point c belongs to the Mandelbrot set iff $|z| \\leq 2$ for all $n \\geq 0$\n",
    "\n",
    "### Representing complex numbers\n",
    "\n",
    "To represent the complex numbers, I will use an array of two float, where the first element represents the real part and the second element the imaginary part."
   ]
  },
  {
   "cell_type": "code",
   "execution_count": 14,
   "id": "637b951f",
   "metadata": {},
   "outputs": [],
   "source": [
    "def square(x):\n",
    "    result = [0, 0]\n",
    "\n",
    "    result[0] = x[0]**2 - x[1]**2\n",
    "    result[1] = 2 * x[0] * x[1]\n",
    "\n",
    "    return result\n",
    "\n",
    "\n",
    "def compute(c, z):\n",
    "    \"\"\"Compute z^2 + c\"\"\"\n",
    "    z_square = square(z)\n",
    "    return [c[0] + z_square[0] , c[1] + z_square[1]]\n",
    "\n",
    "\n",
    "def isInMandelbrotSet(c, z=[0, 0], max_iter=1000, n=0) -> bool:\n",
    "    if z[0]**2 + z[1]**2 > 4:\n",
    "        return False\n",
    "    \n",
    "    if n==max_iter:\n",
    "        return True\n",
    "\n",
    "    return isInMandelbrotSet(c, compute(c, z), max_iter, n+1)\n"
   ]
  },
  {
   "cell_type": "code",
   "execution_count": 15,
   "id": "0f8f58ff",
   "metadata": {},
   "outputs": [
    {
     "name": "stdout",
     "output_type": "stream",
     "text": [
      "Is [-1,0] in the set?: True\n",
      "Is [1,0] in the set?: False\n"
     ]
    }
   ],
   "source": [
    "print(f\"Is [-1,0] in the set?: {isInMandelbrotSet([-1, 0])}\")  # should be true\n",
    "print(f\"Is [1,0] in the set?: {isInMandelbrotSet([1, 0])}\")  # should be false"
   ]
  },
  {
   "cell_type": "markdown",
   "id": "454821ee",
   "metadata": {},
   "source": [
    "### Creating a dataset"
   ]
  },
  {
   "cell_type": "code",
   "execution_count": 16,
   "id": "406ee94d",
   "metadata": {},
   "outputs": [],
   "source": [
    "# Define the range for the real and imaginary parts\n",
    "real_range = np.linspace(-2, 1, 50)\n",
    "imag_range = np.linspace(-1.5, 1.5, 50)\n",
    "\n",
    "data = []\n",
    "for a in real_range:\n",
    "    for b in imag_range:\n",
    "        c = [a, b]\n",
    "        is_in_set = isInMandelbrotSet(c)\n",
    "        data.append({\n",
    "            'real': a,\n",
    "            'imag': b,\n",
    "            'in_mandelbrot_set': is_in_set\n",
    "        })\n",
    "\n",
    "df = pd.DataFrame(data)"
   ]
  },
  {
   "cell_type": "code",
   "execution_count": 17,
   "id": "7fa6cbf0",
   "metadata": {},
   "outputs": [
    {
     "data": {
      "text/html": [
       "<div>\n",
       "<style scoped>\n",
       "    .dataframe tbody tr th:only-of-type {\n",
       "        vertical-align: middle;\n",
       "    }\n",
       "\n",
       "    .dataframe tbody tr th {\n",
       "        vertical-align: top;\n",
       "    }\n",
       "\n",
       "    .dataframe thead th {\n",
       "        text-align: right;\n",
       "    }\n",
       "</style>\n",
       "<table border=\"1\" class=\"dataframe\">\n",
       "  <thead>\n",
       "    <tr style=\"text-align: right;\">\n",
       "      <th></th>\n",
       "      <th>real</th>\n",
       "      <th>imag</th>\n",
       "      <th>in_mandelbrot_set</th>\n",
       "    </tr>\n",
       "  </thead>\n",
       "  <tbody>\n",
       "    <tr>\n",
       "      <th>0</th>\n",
       "      <td>-2.0</td>\n",
       "      <td>-1.500000</td>\n",
       "      <td>False</td>\n",
       "    </tr>\n",
       "    <tr>\n",
       "      <th>1</th>\n",
       "      <td>-2.0</td>\n",
       "      <td>-1.438776</td>\n",
       "      <td>False</td>\n",
       "    </tr>\n",
       "    <tr>\n",
       "      <th>2</th>\n",
       "      <td>-2.0</td>\n",
       "      <td>-1.377551</td>\n",
       "      <td>False</td>\n",
       "    </tr>\n",
       "    <tr>\n",
       "      <th>3</th>\n",
       "      <td>-2.0</td>\n",
       "      <td>-1.316327</td>\n",
       "      <td>False</td>\n",
       "    </tr>\n",
       "    <tr>\n",
       "      <th>4</th>\n",
       "      <td>-2.0</td>\n",
       "      <td>-1.255102</td>\n",
       "      <td>False</td>\n",
       "    </tr>\n",
       "    <tr>\n",
       "      <th>...</th>\n",
       "      <td>...</td>\n",
       "      <td>...</td>\n",
       "      <td>...</td>\n",
       "    </tr>\n",
       "    <tr>\n",
       "      <th>2495</th>\n",
       "      <td>1.0</td>\n",
       "      <td>1.255102</td>\n",
       "      <td>False</td>\n",
       "    </tr>\n",
       "    <tr>\n",
       "      <th>2496</th>\n",
       "      <td>1.0</td>\n",
       "      <td>1.316327</td>\n",
       "      <td>False</td>\n",
       "    </tr>\n",
       "    <tr>\n",
       "      <th>2497</th>\n",
       "      <td>1.0</td>\n",
       "      <td>1.377551</td>\n",
       "      <td>False</td>\n",
       "    </tr>\n",
       "    <tr>\n",
       "      <th>2498</th>\n",
       "      <td>1.0</td>\n",
       "      <td>1.438776</td>\n",
       "      <td>False</td>\n",
       "    </tr>\n",
       "    <tr>\n",
       "      <th>2499</th>\n",
       "      <td>1.0</td>\n",
       "      <td>1.500000</td>\n",
       "      <td>False</td>\n",
       "    </tr>\n",
       "  </tbody>\n",
       "</table>\n",
       "<p>2500 rows × 3 columns</p>\n",
       "</div>"
      ],
      "text/plain": [
       "      real      imag  in_mandelbrot_set\n",
       "0     -2.0 -1.500000              False\n",
       "1     -2.0 -1.438776              False\n",
       "2     -2.0 -1.377551              False\n",
       "3     -2.0 -1.316327              False\n",
       "4     -2.0 -1.255102              False\n",
       "...    ...       ...                ...\n",
       "2495   1.0  1.255102              False\n",
       "2496   1.0  1.316327              False\n",
       "2497   1.0  1.377551              False\n",
       "2498   1.0  1.438776              False\n",
       "2499   1.0  1.500000              False\n",
       "\n",
       "[2500 rows x 3 columns]"
      ]
     },
     "execution_count": 17,
     "metadata": {},
     "output_type": "execute_result"
    }
   ],
   "source": [
    "df"
   ]
  },
  {
   "cell_type": "code",
   "execution_count": 18,
   "id": "b0d89d7d",
   "metadata": {},
   "outputs": [
    {
     "data": {
      "text/plain": [
       "in_mandelbrot_set\n",
       "False    2094\n",
       "True      406\n",
       "Name: count, dtype: int64"
      ]
     },
     "execution_count": 18,
     "metadata": {},
     "output_type": "execute_result"
    }
   ],
   "source": [
    "df['in_mandelbrot_set'].value_counts()"
   ]
  },
  {
   "cell_type": "code",
   "execution_count": 19,
   "id": "a7c0f7e2",
   "metadata": {},
   "outputs": [],
   "source": [
    "from sklearn.model_selection import train_test_split\n",
    "\n",
    "X = df.drop(columns=[\"in_mandelbrot_set\"])\n",
    "y = df[\"in_mandelbrot_set\"]\n",
    "\n",
    "# Using stratified split\n",
    "X_train, X_test, y_train, y_test = train_test_split(\n",
    "    X, y, test_size=0.2, stratify=y, random_state=42, shuffle=True\n",
    ")\n"
   ]
  },
  {
   "cell_type": "markdown",
   "id": "93aa35c8",
   "metadata": {},
   "source": [
    "### Neural Network"
   ]
  },
  {
   "cell_type": "code",
   "execution_count": 20,
   "id": "dcd2d2fb",
   "metadata": {},
   "outputs": [],
   "source": [
    "class NeuralNet(nn.Module):\n",
    "    def __init__(self, num_hidden_layers=3):\n",
    "        super().__init__()\n",
    "        \n",
    "        layers = [\n",
    "            nn.Linear(2, 32),\n",
    "            nn.ReLU(),\n",
    "        ]\n",
    "\n",
    "        for _ in range(num_hidden_layers):\n",
    "            layers.append(\n",
    "                nn.Linear(32, 32)\n",
    "            )\n",
    "            layers.append(\n",
    "                nn.ReLU()\n",
    "            )\n",
    "        \n",
    "        # Output\n",
    "        layers.append(\n",
    "            nn.Linear(32, 1)\n",
    "        )\n",
    "        self.sigmoid_layer = nn.Sigmoid()\n",
    "        self.network = nn.Sequential(*layers)\n",
    "\n",
    "    def forward(self, x):\n",
    "        x = self.network(x)\n",
    "        return self.sigmoid_layer(x)"
   ]
  },
  {
   "cell_type": "code",
   "execution_count": 21,
   "id": "bfa7494f",
   "metadata": {},
   "outputs": [],
   "source": [
    "mandelbrot_net = NeuralNet()"
   ]
  },
  {
   "cell_type": "markdown",
   "id": "a7eda3df",
   "metadata": {},
   "source": [
    "### Training Loop"
   ]
  },
  {
   "cell_type": "code",
   "execution_count": 22,
   "id": "cf2e4e66",
   "metadata": {},
   "outputs": [
    {
     "name": "stdout",
     "output_type": "stream",
     "text": [
      "Epoch: 1, Loss: 0.589841365814209\n",
      "Epoch: 2, Loss: 0.4113062918186188\n",
      "Epoch: 3, Loss: 0.1962919384241104\n",
      "Epoch: 4, Loss: 0.3264751136302948\n",
      "Epoch: 5, Loss: 0.31305480003356934\n",
      "Epoch: 6, Loss: 0.3673720061779022\n",
      "Epoch: 7, Loss: 0.24531084299087524\n",
      "Epoch: 8, Loss: 0.3464818596839905\n",
      "Epoch: 9, Loss: 0.36748579144477844\n",
      "Epoch: 10, Loss: 0.17475436627864838\n",
      "Epoch: 11, Loss: 0.2887818515300751\n",
      "Epoch: 12, Loss: 0.1255597174167633\n",
      "Epoch: 13, Loss: 0.2110673487186432\n",
      "Epoch: 14, Loss: 0.16151145100593567\n",
      "Epoch: 15, Loss: 0.18313631415367126\n",
      "Epoch: 16, Loss: 0.01199581753462553\n",
      "Epoch: 17, Loss: 0.09213060885667801\n",
      "Epoch: 18, Loss: 0.12210164964199066\n",
      "Epoch: 19, Loss: 0.12487905472517014\n",
      "Epoch: 20, Loss: 0.029407594352960587\n"
     ]
    }
   ],
   "source": [
    "from torch.utils.data import TensorDataset, DataLoader\n",
    "\n",
    "NUM_EPOCH = 20\n",
    "LEARNING_RATE = 0.0001\n",
    "BATCH_SIZE = 16\n",
    "\n",
    "criterion = nn.BCELoss()\n",
    "optimizer = optim.Adam(mandelbrot_net.parameters(), lr=LEARNING_RATE)\n",
    "\n",
    "# Convert data to PyTorch tensors\n",
    "X_train_tensor = torch.tensor(X_train.values, dtype=torch.float32)\n",
    "y_train_tensor = torch.tensor(y_train.values, dtype=torch.float32).unsqueeze(1) # Convert target to float and unsqueeze for BCEWithLogitsLoss\n",
    "\n",
    "# Create a TensorDataset and DataLoader\n",
    "train_dataset = TensorDataset(X_train_tensor, y_train_tensor)\n",
    "train_loader = DataLoader(train_dataset, batch_size=BATCH_SIZE, shuffle=True)\n",
    "\n",
    "# Training loop\n",
    "for epoch in range(NUM_EPOCH):\n",
    "    for batch_X, batch_y in train_loader:\n",
    "        # Forward pass\n",
    "        outputs = mandelbrot_net(batch_X)\n",
    "        loss = criterion(outputs, batch_y)\n",
    "\n",
    "        # Backward pass and optimize\n",
    "        optimizer.zero_grad()\n",
    "        loss.backward()\n",
    "        optimizer.step()\n",
    "\n",
    "    print(f\"Epoch: {epoch+1}, Loss: {loss.item()}\")\n",
    "\n"
   ]
  },
  {
   "cell_type": "markdown",
   "id": "82c58e66",
   "metadata": {},
   "source": [
    "### Testing Loop"
   ]
  },
  {
   "cell_type": "code",
   "execution_count": 23,
   "id": "6328b0f6",
   "metadata": {},
   "outputs": [
    {
     "name": "stdout",
     "output_type": "stream",
     "text": [
      "Test Accuracy: 0.9640\n",
      "\n",
      "Classification Report:\n",
      "              precision    recall  f1-score   support\n",
      "\n",
      "         0.0       0.97      0.99      0.98       419\n",
      "         1.0       0.92      0.85      0.88        81\n",
      "\n",
      "    accuracy                           0.96       500\n",
      "   macro avg       0.95      0.92      0.93       500\n",
      "weighted avg       0.96      0.96      0.96       500\n",
      "\n",
      "Confusion Matrix:\n",
      "[[413   6]\n",
      " [ 12  69]]\n"
     ]
    }
   ],
   "source": [
    "from sklearn.metrics import accuracy_score, confusion_matrix, classification_report\n",
    "\n",
    "# Convert data to Pytorch tensors\n",
    "X_test_tensor = torch.tensor(X_test.values, dtype=torch.float32)\n",
    "y_test_tensor = torch.tensor(y_test.values, dtype=torch.float32).unsqueeze(1)\n",
    "\n",
    "# Create a TensorDataset and DataLoader\n",
    "test_dataset = TensorDataset(X_test_tensor, y_test_tensor)\n",
    "test_loader = DataLoader(test_dataset, batch_size=BATCH_SIZE, shuffle=True)\n",
    "\n",
    "# Evaluation mode\n",
    "mandelbrot_net.eval() \n",
    "\n",
    "with torch.no_grad():\n",
    "    y_pred_tensor = mandelbrot_net(X_test_tensor)\n",
    "    \n",
    "    # Convert probabilities to binary predictions (0 or 1)\n",
    "    y_pred = (y_pred_tensor > 0.5).float() \n",
    "\n",
    "    # Calculate metrics\n",
    "    accuracy = accuracy_score(y_test_tensor.numpy(), y_pred.numpy())\n",
    "    print(f\"Test Accuracy: {accuracy:.4f}\\n\")\n",
    "    \n",
    "    print(\"Classification Report:\")\n",
    "    print(classification_report(y_test_tensor.numpy(), y_pred.numpy()))\n",
    "    \n",
    "    print(\"Confusion Matrix:\")\n",
    "    print(confusion_matrix(y_test_tensor.numpy(), y_pred.numpy()))"
   ]
  }
 ],
 "metadata": {
  "kernelspec": {
   "display_name": ".venv",
   "language": "python",
   "name": "python3"
  },
  "language_info": {
   "codemirror_mode": {
    "name": "ipython",
    "version": 3
   },
   "file_extension": ".py",
   "mimetype": "text/x-python",
   "name": "python",
   "nbconvert_exporter": "python",
   "pygments_lexer": "ipython3",
   "version": "3.12.3"
  }
 },
 "nbformat": 4,
 "nbformat_minor": 5
}
