{
 "cells": [
  {
   "cell_type": "code",
   "execution_count": 1,
   "id": "ac002936",
   "metadata": {},
   "outputs": [],
   "source": [
    "import numpy as np\n",
    "import pandas as pd\n",
    "import torch\n",
    "import torch.nn as nn\n",
    "import torch.optim as optim\n",
    "import matplotlib.pyplot as plt\n"
   ]
  },
  {
   "cell_type": "markdown",
   "id": "605ec84e",
   "metadata": {},
   "source": [
    "### The Mandelbrot set\n",
    "The Mandelbrot set is a two-dimensional set that is defined in the complex plane as the complex numbers $c$ for which the function $f_c(z) = z^2 + c $ does not diverge to infinity when iterated starting at $z=0$.\n",
    "\n",
    "Interesting properties:\n",
    "- A point c belongs to the Mandelbrot set iff $|z| \\leq 2$ for all $n \\geq 0$\n",
    "\n",
    "### Representing complex numbers\n",
    "\n",
    "To represent the complex numbers, I will use an array of two float, where the first element represents the real part and the second element the imaginary part."
   ]
  },
  {
   "cell_type": "code",
   "execution_count": 2,
   "id": "637b951f",
   "metadata": {},
   "outputs": [],
   "source": [
    "def square(x):\n",
    "    result = [0, 0]\n",
    "\n",
    "    result[0] = x[0]**2 - x[1]**2\n",
    "    result[1] = 2 * x[0] * x[1]\n",
    "\n",
    "    return result\n",
    "\n",
    "\n",
    "def compute(c, z):\n",
    "    \"\"\"Compute z^2 + c\"\"\"\n",
    "    z_square = square(z)\n",
    "    return [c[0] + z_square[0] , c[1] + z_square[1]]\n",
    "\n",
    "\n",
    "def isInMandelbrotSet(c, z=[0, 0], max_iter=1000, n=0) -> bool:\n",
    "    if z[0]**2 + z[1]**2 > 4:\n",
    "        return False\n",
    "    \n",
    "    if n==max_iter:\n",
    "        return True\n",
    "\n",
    "    return isInMandelbrotSet(c, compute(c, z), max_iter, n+1)\n"
   ]
  },
  {
   "cell_type": "code",
   "execution_count": 3,
   "id": "0f8f58ff",
   "metadata": {},
   "outputs": [
    {
     "name": "stdout",
     "output_type": "stream",
     "text": [
      "Is [-1,0] in the set?: True\n",
      "Is [1,0] in the set?: False\n"
     ]
    }
   ],
   "source": [
    "print(f\"Is [-1,0] in the set?: {isInMandelbrotSet([-1, 0])}\")  # should be true\n",
    "print(f\"Is [1,0] in the set?: {isInMandelbrotSet([1, 0])}\")  # should be false"
   ]
  },
  {
   "cell_type": "markdown",
   "id": "454821ee",
   "metadata": {},
   "source": [
    "### Creating a dataset"
   ]
  },
  {
   "cell_type": "code",
   "execution_count": 4,
   "id": "406ee94d",
   "metadata": {},
   "outputs": [],
   "source": [
    "# Define the range for the real and imaginary parts\n",
    "real_range = np.linspace(-2, 1, 50)\n",
    "imag_range = np.linspace(-1.5, 1.5, 50)\n",
    "\n",
    "data = []\n",
    "for a in real_range:\n",
    "    for b in imag_range:\n",
    "        c = [a, b]\n",
    "        is_in_set = isInMandelbrotSet(c)\n",
    "        data.append({\n",
    "            'real': a,\n",
    "            'imag': b,\n",
    "            'in_mandelbrot_set': is_in_set\n",
    "        })\n",
    "\n",
    "df = pd.DataFrame(data)"
   ]
  },
  {
   "cell_type": "code",
   "execution_count": 5,
   "id": "7fa6cbf0",
   "metadata": {},
   "outputs": [
    {
     "data": {
      "text/html": [
       "<div>\n",
       "<style scoped>\n",
       "    .dataframe tbody tr th:only-of-type {\n",
       "        vertical-align: middle;\n",
       "    }\n",
       "\n",
       "    .dataframe tbody tr th {\n",
       "        vertical-align: top;\n",
       "    }\n",
       "\n",
       "    .dataframe thead th {\n",
       "        text-align: right;\n",
       "    }\n",
       "</style>\n",
       "<table border=\"1\" class=\"dataframe\">\n",
       "  <thead>\n",
       "    <tr style=\"text-align: right;\">\n",
       "      <th></th>\n",
       "      <th>real</th>\n",
       "      <th>imag</th>\n",
       "      <th>in_mandelbrot_set</th>\n",
       "    </tr>\n",
       "  </thead>\n",
       "  <tbody>\n",
       "    <tr>\n",
       "      <th>0</th>\n",
       "      <td>-2.0</td>\n",
       "      <td>-1.500000</td>\n",
       "      <td>False</td>\n",
       "    </tr>\n",
       "    <tr>\n",
       "      <th>1</th>\n",
       "      <td>-2.0</td>\n",
       "      <td>-1.438776</td>\n",
       "      <td>False</td>\n",
       "    </tr>\n",
       "    <tr>\n",
       "      <th>2</th>\n",
       "      <td>-2.0</td>\n",
       "      <td>-1.377551</td>\n",
       "      <td>False</td>\n",
       "    </tr>\n",
       "    <tr>\n",
       "      <th>3</th>\n",
       "      <td>-2.0</td>\n",
       "      <td>-1.316327</td>\n",
       "      <td>False</td>\n",
       "    </tr>\n",
       "    <tr>\n",
       "      <th>4</th>\n",
       "      <td>-2.0</td>\n",
       "      <td>-1.255102</td>\n",
       "      <td>False</td>\n",
       "    </tr>\n",
       "    <tr>\n",
       "      <th>...</th>\n",
       "      <td>...</td>\n",
       "      <td>...</td>\n",
       "      <td>...</td>\n",
       "    </tr>\n",
       "    <tr>\n",
       "      <th>2495</th>\n",
       "      <td>1.0</td>\n",
       "      <td>1.255102</td>\n",
       "      <td>False</td>\n",
       "    </tr>\n",
       "    <tr>\n",
       "      <th>2496</th>\n",
       "      <td>1.0</td>\n",
       "      <td>1.316327</td>\n",
       "      <td>False</td>\n",
       "    </tr>\n",
       "    <tr>\n",
       "      <th>2497</th>\n",
       "      <td>1.0</td>\n",
       "      <td>1.377551</td>\n",
       "      <td>False</td>\n",
       "    </tr>\n",
       "    <tr>\n",
       "      <th>2498</th>\n",
       "      <td>1.0</td>\n",
       "      <td>1.438776</td>\n",
       "      <td>False</td>\n",
       "    </tr>\n",
       "    <tr>\n",
       "      <th>2499</th>\n",
       "      <td>1.0</td>\n",
       "      <td>1.500000</td>\n",
       "      <td>False</td>\n",
       "    </tr>\n",
       "  </tbody>\n",
       "</table>\n",
       "<p>2500 rows × 3 columns</p>\n",
       "</div>"
      ],
      "text/plain": [
       "      real      imag  in_mandelbrot_set\n",
       "0     -2.0 -1.500000              False\n",
       "1     -2.0 -1.438776              False\n",
       "2     -2.0 -1.377551              False\n",
       "3     -2.0 -1.316327              False\n",
       "4     -2.0 -1.255102              False\n",
       "...    ...       ...                ...\n",
       "2495   1.0  1.255102              False\n",
       "2496   1.0  1.316327              False\n",
       "2497   1.0  1.377551              False\n",
       "2498   1.0  1.438776              False\n",
       "2499   1.0  1.500000              False\n",
       "\n",
       "[2500 rows x 3 columns]"
      ]
     },
     "execution_count": 5,
     "metadata": {},
     "output_type": "execute_result"
    }
   ],
   "source": [
    "df"
   ]
  },
  {
   "cell_type": "markdown",
   "id": "674c67d4",
   "metadata": {},
   "source": [
    "As we can see, the dataset is heavily imbalanced. It is very important to remember this, because it will affect the way we measure the performance pf the model and the way we split the dataset."
   ]
  },
  {
   "cell_type": "code",
   "execution_count": 6,
   "id": "b0d89d7d",
   "metadata": {},
   "outputs": [
    {
     "data": {
      "text/plain": [
       "in_mandelbrot_set\n",
       "False    2094\n",
       "True      406\n",
       "Name: count, dtype: int64"
      ]
     },
     "execution_count": 6,
     "metadata": {},
     "output_type": "execute_result"
    }
   ],
   "source": [
    "df['in_mandelbrot_set'].value_counts()"
   ]
  },
  {
   "cell_type": "code",
   "execution_count": 7,
   "id": "a7c0f7e2",
   "metadata": {},
   "outputs": [],
   "source": [
    "from sklearn.model_selection import train_test_split\n",
    "\n",
    "X = df.drop(columns=[\"in_mandelbrot_set\"])\n",
    "y = df[\"in_mandelbrot_set\"]\n",
    "\n",
    "# Using stratified split\n",
    "X_train, X_test, y_train, y_test = train_test_split(\n",
    "    X, y, test_size=0.2, stratify=y, random_state=42, shuffle=True\n",
    ")\n",
    "\n",
    "# Create validation set\n",
    "X_train, X_val, y_train, y_val = train_test_split(\n",
    "    X_train, y_train, test_size=0.15, stratify=y_train, random_state=42\n",
    ")\n"
   ]
  },
  {
   "cell_type": "markdown",
   "id": "93aa35c8",
   "metadata": {},
   "source": [
    "### Neural Network"
   ]
  },
  {
   "cell_type": "code",
   "execution_count": 8,
   "id": "dcd2d2fb",
   "metadata": {},
   "outputs": [],
   "source": [
    "class NeuralNet(nn.Module):\n",
    "    def __init__(self, num_hidden_layers=3):\n",
    "        super().__init__()\n",
    "        \n",
    "        layers = [\n",
    "            nn.Linear(2, 32),\n",
    "            nn.ReLU(),\n",
    "        ]\n",
    "\n",
    "        for _ in range(num_hidden_layers):\n",
    "            layers.append(\n",
    "                nn.Linear(32, 32)\n",
    "            )\n",
    "            layers.append(\n",
    "                nn.ReLU()\n",
    "            )\n",
    "        \n",
    "        # Output\n",
    "        layers.append(\n",
    "            nn.Linear(32, 1)\n",
    "        )\n",
    "        self.sigmoid_layer = nn.Sigmoid()\n",
    "        self.network = nn.Sequential(*layers)\n",
    "\n",
    "    def forward(self, x):\n",
    "        x = self.network(x)\n",
    "        return self.sigmoid_layer(x)"
   ]
  },
  {
   "cell_type": "markdown",
   "id": "a7eda3df",
   "metadata": {},
   "source": [
    "### Training Loop"
   ]
  },
  {
   "cell_type": "code",
   "execution_count": 9,
   "id": "8f1f7e49",
   "metadata": {},
   "outputs": [],
   "source": [
    "from torch.utils.data import TensorDataset, DataLoader\n",
    "\n",
    "def train(model, X_train, y_train, X_val, y_val, num_epoch=20, batch_size=16, lr=0.0001, criterion=nn.BCELoss()):\n",
    "\n",
    "    optimizer = optim.Adam(model.parameters(), lr=lr)\n",
    "\n",
    "    # Convert data to PyTorch tensors\n",
    "    X_train_tensor = torch.tensor(X_train.values, dtype=torch.float32)\n",
    "    y_train_tensor = torch.tensor(y_train.values, dtype=torch.float32).unsqueeze(1) # Convert target to float and unsqueeze for BCEWithLogitsLoss\n",
    "\n",
    "    # Create a TensorDataset and DataLoader\n",
    "    train_dataset = TensorDataset(X_train_tensor, y_train_tensor)\n",
    "    train_loader = DataLoader(train_dataset, batch_size=batch_size, shuffle=False)\n",
    "\n",
    "    # Convert data to PyTorch tensors\n",
    "    X_val_tensor = torch.tensor(X_val.values, dtype=torch.float32)\n",
    "    y_val_tensor = torch.tensor(y_val.values, dtype=torch.float32).unsqueeze(1) # Convert target to float and unsqueeze for BCEWithLogitsLoss\n",
    "\n",
    "    # Create a TensorDataset and DataLoader\n",
    "    val_dataset = TensorDataset(X_val_tensor, y_val_tensor)\n",
    "    val_loader = DataLoader(val_dataset, batch_size=batch_size, shuffle=False)\n",
    "\n",
    "    train_losses = []\n",
    "    val_losses = []\n",
    "\n",
    "    # Training loop\n",
    "    for epoch in range(num_epoch):\n",
    "        model.train() # Set the model to training mode\n",
    "        train_loss = 0\n",
    "        for batch_X, batch_y in train_loader:\n",
    "            # Forward pass\n",
    "            outputs = model(batch_X)\n",
    "            loss = criterion(outputs, batch_y)\n",
    "\n",
    "            # Backward pass and optimize\n",
    "            optimizer.zero_grad()\n",
    "            loss.backward()\n",
    "            optimizer.step()\n",
    "\n",
    "            train_loss += loss.item() * batch_X.size(0)\n",
    "        \n",
    "        model.eval() # Set the model to training mode\n",
    "        val_loss = 0\n",
    "        with torch.no_grad():\n",
    "            for batch_X, batch_y in val_loader:\n",
    "                outputs = model(batch_X)\n",
    "                loss = criterion(outputs, batch_y)\n",
    "\n",
    "                val_loss += loss.item() * batch_X.size(0)\n",
    "        \n",
    "        avg_train_loss = train_loss / len(train_loader.dataset)\n",
    "        avg_val_loss = val_loss / len(val_loader.dataset)\n",
    "        \n",
    "        # Store losses\n",
    "        train_losses.append(avg_train_loss)\n",
    "        val_losses.append(avg_val_loss)\n",
    "        print(f\"Epoch: {epoch+1}, Train Loss: {avg_train_loss}, Val Loss: {avg_val_loss}\")\n",
    "\n",
    "\n",
    "    # Plot the learning curves\n",
    "    plt.figure(figsize=(6, 4))\n",
    "    plt.plot(train_losses, label=\"Training loss\")\n",
    "    plt.plot(val_losses, label=\"Validation loss\")\n",
    "    plt.title(\"Learning Curves\")\n",
    "    plt.xlabel(\"Epoch\")\n",
    "    plt.ylabel(\"Loss\")\n",
    "    plt.legend()\n",
    "    plt.show()\n",
    "\n",
    "    return model"
   ]
  },
  {
   "cell_type": "markdown",
   "id": "82c58e66",
   "metadata": {},
   "source": [
    "### Testing Loop"
   ]
  },
  {
   "cell_type": "code",
   "execution_count": null,
   "id": "6328b0f6",
   "metadata": {},
   "outputs": [],
   "source": [
    "from sklearn.metrics import accuracy_score, confusion_matrix, classification_report, f1_score\n",
    "from torch.utils.data import TensorDataset, DataLoader\n",
    "\n",
    "def test(model, X_test, y_test):\n",
    "    # Convert data to Pytorch tensors\n",
    "    X_test_tensor = torch.tensor(X_test.values, dtype=torch.float32)\n",
    "    y_test_tensor = torch.tensor(y_test.values, dtype=torch.float32).unsqueeze(1)\n",
    "\n",
    "    # Evaluation mode\n",
    "    model.eval() \n",
    "\n",
    "    with torch.no_grad():\n",
    "        y_pred_tensor = model(X_test_tensor)\n",
    "        \n",
    "        # Convert probabilities to binary predictions (0 or 1)\n",
    "        y_pred = (y_pred_tensor > 0.5).float()\n",
    "\n",
    "        # Calculate metrics\n",
    "        accuracy = accuracy_score(y_test_tensor.numpy(), y_pred.numpy())\n",
    "        print(f\"Test Accuracy: {accuracy:.4f}\\n\")\n",
    "        \n",
    "        print(\"Classification Report:\")\n",
    "        print(classification_report(y_test_tensor.numpy(), y_pred.numpy()))\n",
    "        \n",
    "        print(\"Confusion Matrix:\")\n",
    "        print(confusion_matrix(y_test_tensor.numpy(), y_pred.numpy()))\n",
    "\n",
    "        f1 = f1_score(y_test_tensor.numpy(), y_pred.numpy(), pos_label=1)\n",
    "        tn, fp, fn, tp = confusion_matrix(y_test_tensor.numpy(), y_pred.numpy()).ravel()\n",
    "\n",
    "        report = {\n",
    "            \"accuracy\": accuracy,\n",
    "            \"f1_score_positive\": f1,\n",
    "            \"true_positives\": tp,\n",
    "            \"false_positives\": fp,\n",
    "            \"true_negatives\": tn,\n",
    "            \"false_negatives\": fn\n",
    "        }\n",
    "        return report"
   ]
  },
  {
   "cell_type": "markdown",
   "id": "675880dc",
   "metadata": {},
   "source": [
    "### Choosing Model\n",
    "\n",
    "We will use the validation set to test the different models and choose which one we want to use."
   ]
  },
  {
   "cell_type": "code",
   "execution_count": 20,
   "id": "f12ae86b",
   "metadata": {},
   "outputs": [
    {
     "name": "stdout",
     "output_type": "stream",
     "text": [
      "Training model: 1_hidden_layer\n",
      "Epoch: 1, Train Loss: 0.708346113317153, Val Loss: 0.6741683316230774\n",
      "Epoch: 2, Train Loss: 0.6366901613684262, Val Loss: 0.5977257283528646\n",
      "Epoch: 3, Train Loss: 0.5568070847847882, Val Loss: 0.5192946259180705\n",
      "Epoch: 4, Train Loss: 0.48274046533248005, Val Loss: 0.45584290663401283\n",
      "Epoch: 5, Train Loss: 0.4305696018303142, Val Loss: 0.4171098168690999\n",
      "Epoch: 6, Train Loss: 0.4004001656700583, Val Loss: 0.39570733308792116\n",
      "Epoch: 7, Train Loss: 0.3832945585250854, Val Loss: 0.3830734825134277\n",
      "Epoch: 8, Train Loss: 0.37228802169070524, Val Loss: 0.3741066312789917\n",
      "Epoch: 9, Train Loss: 0.36373359154252444, Val Loss: 0.3664038666089376\n",
      "Epoch: 10, Train Loss: 0.3558984100818634, Val Loss: 0.35890212615331013\n",
      "Epoch: 11, Train Loss: 0.3481466084017473, Val Loss: 0.35141883850097655\n",
      "Epoch: 12, Train Loss: 0.3403449109722586, Val Loss: 0.34376790444056193\n",
      "Epoch: 13, Train Loss: 0.33236104824963736, Val Loss: 0.3359519712130229\n",
      "Epoch: 14, Train Loss: 0.32428792981540455, Val Loss: 0.3280026833216349\n",
      "Epoch: 15, Train Loss: 0.3160693272247034, Val Loss: 0.3199130098025004\n",
      "Epoch: 16, Train Loss: 0.307719621833633, Val Loss: 0.31171454668045045\n",
      "Epoch: 17, Train Loss: 0.2992448151988142, Val Loss: 0.3034335899353027\n",
      "Epoch: 18, Train Loss: 0.29067541287225834, Val Loss: 0.295110954840978\n",
      "Epoch: 19, Train Loss: 0.2820386398715131, Val Loss: 0.2867458689212799\n",
      "Epoch: 20, Train Loss: 0.27340730433954913, Val Loss: 0.2784475374221802\n",
      "Epoch: 21, Train Loss: 0.2648307080829845, Val Loss: 0.27018174409866336\n",
      "Epoch: 22, Train Loss: 0.2563279846135308, Val Loss: 0.2620069702466329\n",
      "Epoch: 23, Train Loss: 0.247979835692574, Val Loss: 0.2539800345897675\n",
      "Epoch: 24, Train Loss: 0.2398105204280685, Val Loss: 0.24612098574638366\n",
      "Epoch: 25, Train Loss: 0.23184003766845254, Val Loss: 0.23845066984494528\n"
     ]
    },
    {
     "data": {
      "image/png": "[encoded data removed]",
      "text/plain": [
       "<Figure size 600x400 with 1 Axes>"
      ]
     },
     "metadata": {},
     "output_type": "display_data"
    },
    {
     "name": "stdout",
     "output_type": "stream",
     "text": [
      "Test Accuracy: 0.8780\n",
      "\n",
      "Classification Report:\n",
      "              precision    recall  f1-score   support\n",
      "\n",
      "         0.0       0.87      1.00      0.93       419\n",
      "         1.0       1.00      0.25      0.40        81\n",
      "\n",
      "    accuracy                           0.88       500\n",
      "   macro avg       0.94      0.62      0.66       500\n",
      "weighted avg       0.89      0.88      0.85       500\n",
      "\n",
      "Confusion Matrix:\n",
      "[[419   0]\n",
      " [ 61  20]]\n",
      "Training model: 3_hidden_layers\n",
      "Epoch: 1, Train Loss: 0.759888131758746, Val Loss: 0.7407363025347392\n",
      "Epoch: 2, Train Loss: 0.7244348551245297, Val Loss: 0.7073450271288554\n",
      "Epoch: 3, Train Loss: 0.6831275165782256, Val Loss: 0.6476244775454203\n",
      "Epoch: 4, Train Loss: 0.5872950994968414, Val Loss: 0.5163052678108215\n",
      "Epoch: 5, Train Loss: 0.44905280421761906, Val Loss: 0.40151362816492714\n",
      "Epoch: 6, Train Loss: 0.3871098485063104, Val Loss: 0.3805714702606201\n",
      "Epoch: 7, Train Loss: 0.3726563722596449, Val Loss: 0.3693402043978373\n",
      "Epoch: 8, Train Loss: 0.36089006273185503, Val Loss: 0.35777671337127687\n",
      "Epoch: 9, Train Loss: 0.3479917618807624, Val Loss: 0.3448762019475301\n",
      "Epoch: 10, Train Loss: 0.33381838120081847, Val Loss: 0.3302498284975688\n",
      "Epoch: 11, Train Loss: 0.3172113126516342, Val Loss: 0.31333560387293496\n",
      "Epoch: 12, Train Loss: 0.29990513352786796, Val Loss: 0.29615768790245056\n",
      "Epoch: 13, Train Loss: 0.2818880313284257, Val Loss: 0.2781550939877828\n",
      "Epoch: 14, Train Loss: 0.2630867052779478, Val Loss: 0.2594812734921773\n",
      "Epoch: 15, Train Loss: 0.24369398772716522, Val Loss: 0.2391186467806498\n",
      "Epoch: 16, Train Loss: 0.2229558974329163, Val Loss: 0.21877689123153687\n",
      "Epoch: 17, Train Loss: 0.20381640164291157, Val Loss: 0.20052388389905293\n",
      "Epoch: 18, Train Loss: 0.18704768629635082, Val Loss: 0.1848644334077835\n",
      "Epoch: 19, Train Loss: 0.1729379883759162, Val Loss: 0.17120852847894033\n",
      "Epoch: 20, Train Loss: 0.1602470342201345, Val Loss: 0.1591185994942983\n",
      "Epoch: 21, Train Loss: 0.14980260912109825, Val Loss: 0.14919290900230409\n",
      "Epoch: 22, Train Loss: 0.14088083250557676, Val Loss: 0.14017430822054544\n",
      "Epoch: 23, Train Loss: 0.13287035663338267, Val Loss: 0.1325250079234441\n",
      "Epoch: 24, Train Loss: 0.1262114902410437, Val Loss: 0.12611198514699937\n",
      "Epoch: 25, Train Loss: 0.1205516597146497, Val Loss: 0.12065029958883922\n"
     ]
    },
    {
     "data": {
      "image/png": "[encoded data removed]",
      "text/plain": [
       "<Figure size 600x400 with 1 Axes>"
      ]
     },
     "metadata": {},
     "output_type": "display_data"
    },
    {
     "name": "stdout",
     "output_type": "stream",
     "text": [
      "Test Accuracy: 0.9500\n",
      "\n",
      "Classification Report:\n",
      "              precision    recall  f1-score   support\n",
      "\n",
      "         0.0       0.96      0.98      0.97       419\n",
      "         1.0       0.87      0.81      0.84        81\n",
      "\n",
      "    accuracy                           0.95       500\n",
      "   macro avg       0.92      0.90      0.91       500\n",
      "weighted avg       0.95      0.95      0.95       500\n",
      "\n",
      "Confusion Matrix:\n",
      "[[409  10]\n",
      " [ 15  66]]\n",
      "Training model: 5_hidden_layers\n",
      "Epoch: 1, Train Loss: 0.6441984643655665, Val Loss: 0.6338462694485982\n",
      "Epoch: 2, Train Loss: 0.6209395877052756, Val Loss: 0.6040591621398925\n",
      "Epoch: 3, Train Loss: 0.559103610235102, Val Loss: 0.4889954439798991\n",
      "Epoch: 4, Train Loss: 0.41965664968771094, Val Loss: 0.38817118167877196\n",
      "Epoch: 5, Train Loss: 0.3728799014231738, Val Loss: 0.3674910449981689\n",
      "Epoch: 6, Train Loss: 0.35174719761399664, Val Loss: 0.3456283410390218\n",
      "Epoch: 7, Train Loss: 0.32750556339235865, Val Loss: 0.3209164861838023\n",
      "Epoch: 8, Train Loss: 0.3004655975278686, Val Loss: 0.29290040731430056\n",
      "Epoch: 9, Train Loss: 0.2712720759826548, Val Loss: 0.26396399974823\n",
      "Epoch: 10, Train Loss: 0.24248742303427528, Val Loss: 0.23566577831904092\n",
      "Epoch: 11, Train Loss: 0.2171232944902252, Val Loss: 0.21265573461850484\n",
      "Epoch: 12, Train Loss: 0.19644244111636106, Val Loss: 0.19367813368638356\n",
      "Epoch: 13, Train Loss: 0.17996884111095876, Val Loss: 0.17849604507287342\n",
      "Epoch: 14, Train Loss: 0.1669365566881264, Val Loss: 0.16611080745855966\n",
      "Epoch: 15, Train Loss: 0.15439601812730816, Val Loss: 0.15336649358272553\n",
      "Epoch: 16, Train Loss: 0.1415638248797725, Val Loss: 0.14130720535914104\n",
      "Epoch: 17, Train Loss: 0.12981225653606301, Val Loss: 0.13120705336332322\n",
      "Epoch: 18, Train Loss: 0.12018769712132567, Val Loss: 0.12339337925116221\n",
      "Epoch: 19, Train Loss: 0.1128718303143978, Val Loss: 0.11751204892992974\n",
      "Epoch: 20, Train Loss: 0.10720824210740187, Val Loss: 0.11308384339014689\n",
      "Epoch: 21, Train Loss: 0.10254097080186886, Val Loss: 0.10943190291523934\n",
      "Epoch: 22, Train Loss: 0.09878292896730058, Val Loss: 0.10634427492817243\n",
      "Epoch: 23, Train Loss: 0.09560693250695133, Val Loss: 0.10381420915325483\n",
      "Epoch: 24, Train Loss: 0.09281501895638511, Val Loss: 0.10167134260137876\n",
      "Epoch: 25, Train Loss: 0.09049172486342928, Val Loss: 0.09976649565001329\n"
     ]
    },
    {
     "data": {
      "image/png": "[encoded data removed]",
      "text/plain": [
       "<Figure size 600x400 with 1 Axes>"
      ]
     },
     "metadata": {},
     "output_type": "display_data"
    },
    {
     "name": "stdout",
     "output_type": "stream",
     "text": [
      "Test Accuracy: 0.9540\n",
      "\n",
      "Classification Report:\n",
      "              precision    recall  f1-score   support\n",
      "\n",
      "         0.0       0.98      0.97      0.97       419\n",
      "         1.0       0.84      0.89      0.86        81\n",
      "\n",
      "    accuracy                           0.95       500\n",
      "   macro avg       0.91      0.93      0.92       500\n",
      "weighted avg       0.96      0.95      0.95       500\n",
      "\n",
      "Confusion Matrix:\n",
      "[[405  14]\n",
      " [  9  72]]\n"
     ]
    }
   ],
   "source": [
    "model_configs = {\n",
    "    \"1_hidden_layer\": NeuralNet(num_hidden_layers=1),\n",
    "    \"3_hidden_layers\": NeuralNet(num_hidden_layers=3),\n",
    "    \"5_hidden_layers\": NeuralNet(num_hidden_layers=5)\n",
    "}\n",
    "\n",
    "results = {}\n",
    "\n",
    "for name, model in model_configs.items():\n",
    "    print(f\"Training model: {name}\")\n",
    "    \n",
    "    # Train the model\n",
    "    trained_model = train(model, X_train, y_train, X_val, y_val, num_epoch=25)\n",
    "    \n",
    "    # Test the model and store the returned metrics\n",
    "    results[name] = test(trained_model, X_test, y_test)"
   ]
  }
 ],
 "metadata": {
  "kernelspec": {
   "display_name": ".venv",
   "language": "python",
   "name": "python3"
  },
  "language_info": {
   "codemirror_mode": {
    "name": "ipython",
    "version": 3
   },
   "file_extension": ".py",
   "mimetype": "text/x-python",
   "name": "python",
   "nbconvert_exporter": "python",
   "pygments_lexer": "ipython3",
   "version": "3.12.3"
  }
 },
 "nbformat": 4,
 "nbformat_minor": 5
}
