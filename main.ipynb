{
 "cells": [
  {
   "cell_type": "code",
   "execution_count": 10,
   "id": "ac002936",
   "metadata": {},
   "outputs": [],
   "source": [
    "import numpy as np\n",
    "import pandas as pd"
   ]
  },
  {
   "cell_type": "markdown",
   "id": "605ec84e",
   "metadata": {},
   "source": [
    "### The Mandelbrot set\n",
    "The Mandelbrot set is a two-dimensional set that is defined in the complex plane as the complex numbers $c$ for which the function $f_c(z) = z^2 + c $ does not diverge to infinity when iterated starting at $z=0$.\n",
    "\n",
    "Interesting properties:\n",
    "- A point c belongs to the Mandelbrot set iff $|z| \\leq 2$ for all $n \\geq 0$\n",
    "\n",
    "### Representing complex numbers\n",
    "\n",
    "To represent the complex numbers, I will use an array of two float, where the first element represents the real part and the second element the imaginary part."
   ]
  },
  {
   "cell_type": "code",
   "execution_count": 4,
   "id": "637b951f",
   "metadata": {},
   "outputs": [],
   "source": [
    "def square(x):\n",
    "    result = [0, 0]\n",
    "\n",
    "    result[0] = x[0]**2 - x[1]**2\n",
    "    result[1] = 2 * x[0] * x[1]\n",
    "\n",
    "    return result\n",
    "\n",
    "\n",
    "def compute(c, z):\n",
    "    \"\"\"Compute z^2 + c\"\"\"\n",
    "    z_square = square(z)\n",
    "    return [c[0] + z_square[0] , c[1] + z_square[1]]\n",
    "\n",
    "\n",
    "def isInMandelbrotSet(c, z=[0, 0], max_iter=1000, n=0) -> bool:\n",
    "    if z[0]**2 + z[1]**2 > 4:\n",
    "        return False\n",
    "    \n",
    "    if n==max_iter:\n",
    "        return True\n",
    "\n",
    "    return isInMandelbrotSet(c, compute(c, z), max_iter, n+1)\n"
   ]
  },
  {
   "cell_type": "code",
   "execution_count": 5,
   "id": "0f8f58ff",
   "metadata": {},
   "outputs": [
    {
     "name": "stdout",
     "output_type": "stream",
     "text": [
      "Is [-1,0] in the set?: True\n",
      "Is [1,0] in the set?: False\n"
     ]
    }
   ],
   "source": [
    "print(f\"Is [-1,0] in the set?: {isInMandelbrotSet([-1, 0])}\")  # should be true\n",
    "print(f\"Is [1,0] in the set?: {isInMandelbrotSet([1, 0])}\")  # should be false"
   ]
  },
  {
   "cell_type": "markdown",
   "id": "454821ee",
   "metadata": {},
   "source": [
    "### Creating a dataset"
   ]
  },
  {
   "cell_type": "code",
   "execution_count": 11,
   "id": "406ee94d",
   "metadata": {},
   "outputs": [],
   "source": [
    "# Define the range for the real and imaginary parts\n",
    "real_range = np.linspace(-2, 1, 50)\n",
    "imag_range = np.linspace(-1.5, 1.5, 50)\n",
    "\n",
    "data = []\n",
    "for a in real_range:\n",
    "    for b in imag_range:\n",
    "        c = [a, b]\n",
    "        is_in_set = isInMandelbrotSet(c)\n",
    "        data.append({\n",
    "            'real': a,\n",
    "            'imag': b,\n",
    "            'in_mandelbrot_set': is_in_set\n",
    "        })\n",
    "\n",
    "df = pd.DataFrame(data)"
   ]
  },
  {
   "cell_type": "code",
   "execution_count": 12,
   "id": "7fa6cbf0",
   "metadata": {},
   "outputs": [
    {
     "data": {
      "text/html": [
       "<div>\n",
       "<style scoped>\n",
       "    .dataframe tbody tr th:only-of-type {\n",
       "        vertical-align: middle;\n",
       "    }\n",
       "\n",
       "    .dataframe tbody tr th {\n",
       "        vertical-align: top;\n",
       "    }\n",
       "\n",
       "    .dataframe thead th {\n",
       "        text-align: right;\n",
       "    }\n",
       "</style>\n",
       "<table border=\"1\" class=\"dataframe\">\n",
       "  <thead>\n",
       "    <tr style=\"text-align: right;\">\n",
       "      <th></th>\n",
       "      <th>real</th>\n",
       "      <th>imag</th>\n",
       "      <th>in_mandelbrot_set</th>\n",
       "    </tr>\n",
       "  </thead>\n",
       "  <tbody>\n",
       "    <tr>\n",
       "      <th>0</th>\n",
       "      <td>-2.0</td>\n",
       "      <td>-1.500000</td>\n",
       "      <td>False</td>\n",
       "    </tr>\n",
       "    <tr>\n",
       "      <th>1</th>\n",
       "      <td>-2.0</td>\n",
       "      <td>-1.438776</td>\n",
       "      <td>False</td>\n",
       "    </tr>\n",
       "    <tr>\n",
       "      <th>2</th>\n",
       "      <td>-2.0</td>\n",
       "      <td>-1.377551</td>\n",
       "      <td>False</td>\n",
       "    </tr>\n",
       "    <tr>\n",
       "      <th>3</th>\n",
       "      <td>-2.0</td>\n",
       "      <td>-1.316327</td>\n",
       "      <td>False</td>\n",
       "    </tr>\n",
       "    <tr>\n",
       "      <th>4</th>\n",
       "      <td>-2.0</td>\n",
       "      <td>-1.255102</td>\n",
       "      <td>False</td>\n",
       "    </tr>\n",
       "    <tr>\n",
       "      <th>...</th>\n",
       "      <td>...</td>\n",
       "      <td>...</td>\n",
       "      <td>...</td>\n",
       "    </tr>\n",
       "    <tr>\n",
       "      <th>2495</th>\n",
       "      <td>1.0</td>\n",
       "      <td>1.255102</td>\n",
       "      <td>False</td>\n",
       "    </tr>\n",
       "    <tr>\n",
       "      <th>2496</th>\n",
       "      <td>1.0</td>\n",
       "      <td>1.316327</td>\n",
       "      <td>False</td>\n",
       "    </tr>\n",
       "    <tr>\n",
       "      <th>2497</th>\n",
       "      <td>1.0</td>\n",
       "      <td>1.377551</td>\n",
       "      <td>False</td>\n",
       "    </tr>\n",
       "    <tr>\n",
       "      <th>2498</th>\n",
       "      <td>1.0</td>\n",
       "      <td>1.438776</td>\n",
       "      <td>False</td>\n",
       "    </tr>\n",
       "    <tr>\n",
       "      <th>2499</th>\n",
       "      <td>1.0</td>\n",
       "      <td>1.500000</td>\n",
       "      <td>False</td>\n",
       "    </tr>\n",
       "  </tbody>\n",
       "</table>\n",
       "<p>2500 rows × 3 columns</p>\n",
       "</div>"
      ],
      "text/plain": [
       "      real      imag  in_mandelbrot_set\n",
       "0     -2.0 -1.500000              False\n",
       "1     -2.0 -1.438776              False\n",
       "2     -2.0 -1.377551              False\n",
       "3     -2.0 -1.316327              False\n",
       "4     -2.0 -1.255102              False\n",
       "...    ...       ...                ...\n",
       "2495   1.0  1.255102              False\n",
       "2496   1.0  1.316327              False\n",
       "2497   1.0  1.377551              False\n",
       "2498   1.0  1.438776              False\n",
       "2499   1.0  1.500000              False\n",
       "\n",
       "[2500 rows x 3 columns]"
      ]
     },
     "execution_count": 12,
     "metadata": {},
     "output_type": "execute_result"
    }
   ],
   "source": [
    "df"
   ]
  },
  {
   "cell_type": "code",
   "execution_count": 15,
   "id": "b0d89d7d",
   "metadata": {},
   "outputs": [
    {
     "data": {
      "text/plain": [
       "in_mandelbrot_set\n",
       "False    2094\n",
       "True      406\n",
       "Name: count, dtype: int64"
      ]
     },
     "execution_count": 15,
     "metadata": {},
     "output_type": "execute_result"
    }
   ],
   "source": [
    "df['in_mandelbrot_set'].value_counts()"
   ]
  }
 ],
 "metadata": {
  "kernelspec": {
   "display_name": ".venv",
   "language": "python",
   "name": "python3"
  },
  "language_info": {
   "codemirror_mode": {
    "name": "ipython",
    "version": 3
   },
   "file_extension": ".py",
   "mimetype": "text/x-python",
   "name": "python",
   "nbconvert_exporter": "python",
   "pygments_lexer": "ipython3",
   "version": "3.10.12"
  }
 },
 "nbformat": 4,
 "nbformat_minor": 5
}
