{
 "cells": [
  {
   "cell_type": "code",
   "execution_count": null,
   "id": "ac002936",
   "metadata": {},
   "outputs": [],
   "source": [
    "import numpy as np\n",
    "import pandas as pd\n",
    "import torch\n",
    "import torch.nn as nn\n",
    "import torch.optim as optim\n",
    "import matplotlib.pyplot as plt\n"
   ]
  },
  {
   "cell_type": "code",
   "execution_count": null,
   "id": "6e4d00ab",
   "metadata": {},
   "outputs": [],
   "source": [
    "device = ('cuda' if torch.cuda.is_available() else 'cpu')   # Check wether gpu is available"
   ]
  },
  {
   "cell_type": "markdown",
   "id": "605ec84e",
   "metadata": {},
   "source": [
    "### The Mandelbrot set\n",
    "The Mandelbrot set is a two-dimensional set that is defined in the complex plane as the complex numbers $c$ for which the function $f_c(z) = z^2 + c $ does not diverge to infinity when iterated starting at $z=0$.\n",
    "\n",
    "Interesting properties:\n",
    "- A point c belongs to the Mandelbrot set iff $|z| \\leq 2$ for all $n \\geq 0$\n"
   ]
  },
  {
   "cell_type": "markdown",
   "id": "454821ee",
   "metadata": {},
   "source": [
    "### Creating a dataset"
   ]
  },
  {
   "cell_type": "code",
   "execution_count": null,
   "id": "57525330",
   "metadata": {},
   "outputs": [],
   "source": [
    "def mandelbrot_grid_dataset(nx=750, ny=750, xlim=(-2.0, 1.0), ylim =(-1.5, 1.5), max_iter=1000):\n",
    "    xs = np.linspace(xlim[0], xlim[1], nx)\n",
    "    ys = np.linspace(ylim[0], ylim[1], ny)\n",
    "    X, Y = np.meshgrid(xs, ys, indexing=\"xy\")\n",
    "    \n",
    "    C = X + 1j * Y\n",
    "    Z = np.zeros_like(C)\n",
    "    mask = np.ones(C.shape, dtype=bool)\n",
    "\n",
    "    for _ in range(max_iter):\n",
    "        Z[mask] = Z[mask] * Z[mask] + C[mask]\n",
    "        # Update mask for those that remain within radius 2\n",
    "        mask[mask] = (np.abs(Z[mask]) <= 2.0)\n",
    "\n",
    "    # If after max_iter still True, it's considered inside the set\n",
    "    in_set = mask\n",
    "    return X, Y, in_set"
   ]
  },
  {
   "cell_type": "markdown",
   "id": "93aa35c8",
   "metadata": {},
   "source": [
    "### Neural Network"
   ]
  },
  {
   "cell_type": "code",
   "execution_count": 8,
   "id": "dcd2d2fb",
   "metadata": {},
   "outputs": [],
   "source": [
    "class NeuralNet(nn.Module):\n",
    "    def __init__(self, num_hidden_layers=3):\n",
    "        super().__init__()\n",
    "        \n",
    "        layers = [\n",
    "            nn.Linear(2, 32),\n",
    "            nn.ReLU(),\n",
    "        ]\n",
    "\n",
    "        for _ in range(num_hidden_layers):\n",
    "            layers.append(\n",
    "                nn.Linear(32, 32)\n",
    "            )\n",
    "            layers.append(\n",
    "                nn.ReLU()\n",
    "            )\n",
    "        \n",
    "        # Output\n",
    "        layers.append(\n",
    "            nn.Linear(32, 1)\n",
    "        )\n",
    "        self.sigmoid_layer = nn.Sigmoid()\n",
    "        self.network = nn.Sequential(*layers)\n",
    "\n",
    "    def forward(self, x):\n",
    "        x = self.network(x)\n",
    "        return self.sigmoid_layer(x)"
   ]
  },
  {
   "cell_type": "markdown",
   "id": "d9ea3f46",
   "metadata": {},
   "source": [
    "### Visualization Function"
   ]
  },
  {
   "cell_type": "code",
   "execution_count": null,
   "id": "eb1bd9f9",
   "metadata": {},
   "outputs": [],
   "source": [
    "def plot_decision_boundary(model, epoch, real_res=400, imag_res=400, outdir=\"images\"):\n",
    "    \"\"\"\n",
    "    Generates and saves an image of the model's decision boundary.\n",
    "    \"\"\"\n",
    "    # Define the range for the real and imaginary parts\n",
    "    real_range = np.linspace(-2, 1, real_res)\n",
    "    imag_range = np.linspace(-1.5, 1.5, imag_res)\n",
    "    \n",
    "    # Create a grid of points\n",
    "    grid = []\n",
    "    for a in real_range:\n",
    "        for b in imag_range:\n",
    "            grid.append([a, b])\n",
    "            \n",
    "    grid_tensor = torch.tensor(grid, dtype=torch.float32)\n",
    "\n",
    "    model.to(device)\n",
    "    # Set the model to evaluation mode\n",
    "    model.eval()\n",
    "    with torch.no_grad():\n",
    "        grid_tensor = grid_tensor.to(device)\n",
    "        # Get the model's predictions (probabilities)\n",
    "        predictions = model(grid_tensor)\n",
    "    \n",
    "    # Reshape the predictions back into a 2D image format\n",
    "    image_data = predictions.cpu().numpy().reshape((real_res, imag_res))\n",
    "    \n",
    "    plt.figure(figsize=(6, 6))\n",
    "    plt.imshow(image_data.T, extent=[-2, 1, -1.5, 1.5], origin='lower', cmap='hot')\n",
    "    plt.title(f'Decision Boundary at Epoch {epoch+1}')\n",
    "    plt.xlabel('Real')\n",
    "    plt.ylabel('Imaginary')\n",
    "    \n",
    "    # Save the figure to a file\n",
    "    filename = f\"images/mandelbrot_epoch_{epoch+1}.png\"\n",
    "    plt.savefig(filename)\n",
    "    # plt.close()\n",
    "    print(f\"Saved image: {filename}\")\n"
   ]
  },
  {
   "cell_type": "markdown",
   "id": "a7eda3df",
   "metadata": {},
   "source": [
    "### Training Loop"
   ]
  },
  {
   "cell_type": "code",
   "execution_count": null,
   "id": "8f1f7e49",
   "metadata": {},
   "outputs": [],
   "source": [
    "from torch.utils.data import TensorDataset, DataLoader\n",
    "\n",
    "def train(model, X_train, y_train, X_val, y_val, num_epoch=20, batch_size=16, lr=0.0001, criterion=nn.BCELoss(), visualize=False):\n",
    "    optimizer = optim.Adam(model.parameters(), lr=lr)\n",
    "\n",
    "    # Load model into GPU\n",
    "    model.to(device)\n",
    "    \n",
    "    # Convert data to PyTorch tensors\n",
    "    X_train_tensor = torch.tensor(X_train.values, dtype=torch.float32)\n",
    "    y_train_tensor = torch.tensor(y_train.values, dtype=torch.float32).unsqueeze(1) # Convert target to float and unsqueeze for BCEWithLogitsLoss\n",
    "\n",
    "    # Create a TensorDataset and DataLoader\n",
    "    train_dataset = TensorDataset(X_train_tensor, y_train_tensor)\n",
    "    train_loader = DataLoader(train_dataset, batch_size=batch_size, shuffle=False)\n",
    "\n",
    "    # Convert data to PyTorch tensors\n",
    "    X_val_tensor = torch.tensor(X_val.values, dtype=torch.float32)\n",
    "    y_val_tensor = torch.tensor(y_val.values, dtype=torch.float32).unsqueeze(1) # Convert target to float and unsqueeze for BCEWithLogitsLoss\n",
    "\n",
    "    # Create a TensorDataset and DataLoader\n",
    "    val_dataset = TensorDataset(X_val_tensor, y_val_tensor)\n",
    "    val_loader = DataLoader(val_dataset, batch_size=batch_size, shuffle=False)\n",
    "\n",
    "    train_losses = []\n",
    "    val_losses = []\n",
    "\n",
    "    # Training loop\n",
    "    for epoch in range(num_epoch):\n",
    "        model.train() # Set the model to training mode\n",
    "        train_loss = 0\n",
    "        for batch_X, batch_y in train_loader:\n",
    "            # Load into GPU\n",
    "            batch_X = batch_X.to(device)\n",
    "            batch_y = batch_y.to(device)\n",
    "\n",
    "            # Forward pass\n",
    "            outputs = model(batch_X)\n",
    "            loss = criterion(outputs, batch_y)\n",
    "\n",
    "            # Backward pass and optimize\n",
    "            optimizer.zero_grad()\n",
    "            loss.backward()\n",
    "            optimizer.step()\n",
    "\n",
    "            train_loss += loss.item() * batch_X.size(0)\n",
    "        \n",
    "        model.eval() # Set the model to training mode\n",
    "        val_loss = 0\n",
    "        with torch.no_grad():\n",
    "            for batch_X, batch_y in val_loader:\n",
    "                # Load into GPU\n",
    "                batch_X = batch_X.to(device)\n",
    "                batch_y = batch_y.to(device)\n",
    "\n",
    "                outputs = model(batch_X)\n",
    "                loss = criterion(outputs, batch_y)\n",
    "\n",
    "                val_loss += loss.item() * batch_X.size(0)\n",
    "        \n",
    "        avg_train_loss = train_loss / len(train_loader.dataset)\n",
    "        avg_val_loss = val_loss / len(val_loader.dataset)\n",
    "        \n",
    "        # Store losses\n",
    "        train_losses.append(avg_train_loss)\n",
    "        val_losses.append(avg_val_loss)\n",
    "        print(f\"Epoch: {epoch+1}, Train Loss: {avg_train_loss}, Val Loss: {avg_val_loss}\")\n",
    "        \n",
    "        # Plotting the set\n",
    "        if visualize:\n",
    "            if (epoch + 1) % 10 == 0:    # Every 10 epoch\n",
    "                plot_decision_boundary(model, epoch)\n",
    "\n",
    "    # Plot the learning curves\n",
    "    plt.figure(figsize=(6, 4))\n",
    "    plt.plot(train_losses, label=\"Training loss\")\n",
    "    plt.plot(val_losses, label=\"Validation loss\")\n",
    "    plt.title(\"Learning Curves\")\n",
    "    plt.xlabel(\"Epoch\")\n",
    "    plt.ylabel(\"Loss\")\n",
    "    plt.legend()\n",
    "    plt.show()\n",
    "\n",
    "    return model"
   ]
  },
  {
   "cell_type": "markdown",
   "id": "82c58e66",
   "metadata": {},
   "source": [
    "### Testing Loop"
   ]
  },
  {
   "cell_type": "code",
   "execution_count": null,
   "id": "6328b0f6",
   "metadata": {},
   "outputs": [],
   "source": [
    "from sklearn.metrics import accuracy_score, confusion_matrix, classification_report, f1_score, roc_auc_score\n",
    "from torch.utils.data import TensorDataset, DataLoader\n",
    "\n",
    "def test(model, X_test, y_test, threshold=0.5):\n",
    "    # Convert data to Pytorch tensors\n",
    "    X_test_tensor = torch.tensor(X_test.values, dtype=torch.float32)\n",
    "    y_test_tensor = torch.tensor(y_test.values, dtype=torch.float32).unsqueeze(1)\n",
    "\n",
    "    model.to(device)\n",
    "    # Evaluation mode\n",
    "    model.eval() \n",
    "\n",
    "    with torch.no_grad():\n",
    "        # Load into GPU\n",
    "        X_test_tensor = X_test_tensor.to(device)\n",
    "        y_prob_tensor = model(X_test_tensor)\n",
    "        \n",
    "        # Convert probabilities to binary predictions (0 or 1)\n",
    "        y_pred = (y_prob_tensor > threshold).float()\n",
    "\n",
    "        y_true_np = y_test_tensor.cpu().numpy()\n",
    "        y_pred_np = y_pred.cpu().numpy()\n",
    "        y_prob_np = y_prob_tensor.cpu().numpy()\n",
    "\n",
    "        # Calculate metrics\n",
    "        auc = roc_auc_score(y_true_np, y_prob_np)\n",
    "        print(f\"Test AUC: {auc:.4f}\\n\")\n",
    "        \n",
    "        accuracy = accuracy_score(y_true_np, y_pred_np)\n",
    "        print(f\"Test Accuracy: {accuracy:.4f}\\n\")\n",
    "        \n",
    "        print(\"Classification Report:\")\n",
    "        print(classification_report(y_true_np, y_pred_np))\n",
    "        \n",
    "        print(\"Confusion Matrix:\")\n",
    "        print(confusion_matrix(y_true_np, y_pred_np))\n",
    "\n",
    "        f1 = f1_score(y_true_np, y_pred_np, pos_label=1)\n",
    "        tn, fp, fn, tp = confusion_matrix(y_true_np, y_pred_np).ravel()\n",
    "\n",
    "        report = {\n",
    "            \"accuracy\": accuracy,\n",
    "            \"f1_score_positive\": f1,\n",
    "            \"auc\": auc,\n",
    "            \"true_positives\": tp,\n",
    "            \"false_positives\": fp,\n",
    "            \"true_negatives\": tn,\n",
    "            \"false_negatives\": fn\n",
    "        }\n",
    "    \n",
    "    return report"
   ]
  },
  {
   "cell_type": "markdown",
   "id": "675880dc",
   "metadata": {},
   "source": [
    "### Choosing Model\n",
    "\n",
    "We will use the validation set to test the different models and choose which one we want to use."
   ]
  },
  {
   "cell_type": "code",
   "execution_count": null,
   "id": "f12ae86b",
   "metadata": {},
   "outputs": [],
   "source": [
    "model_configs = {\n",
    "    \"1_hidden_layer\": NeuralNet(num_hidden_layers=1),\n",
    "    \"3_hidden_layers\": NeuralNet(num_hidden_layers=3),\n",
    "    \"5_hidden_layers\": NeuralNet(num_hidden_layers=5),\n",
    "    \"7_hidden_layers\": NeuralNet(num_hidden_layers=7),\n",
    "    \"9_hidden_layers\": NeuralNet(num_hidden_layers=9),\n",
    "}\n",
    "\n",
    "results = {}\n",
    "\n",
    "for name, model in model_configs.items():\n",
    "    print(f\"Training model: {name}\")\n",
    "    \n",
    "    # Train the model\n",
    "    trained_model = train(model, X_train, y_train, X_val, y_val, num_epoch=25)\n",
    "    \n",
    "    # Test the model and store the returned metrics\n",
    "    results[name] = test(trained_model, X_val, y_val)"
   ]
  },
  {
   "cell_type": "code",
   "execution_count": null,
   "id": "9d92e87e",
   "metadata": {},
   "outputs": [],
   "source": [
    "results_df = pd.DataFrame(results).T\n",
    "results_df"
   ]
  },
  {
   "cell_type": "markdown",
   "id": "41d59f9e",
   "metadata": {},
   "source": [
    "### Test the chosen architecture\n",
    "\n",
    "Test it on the test set"
   ]
  },
  {
   "cell_type": "code",
   "execution_count": null,
   "id": "ab6aa961",
   "metadata": {},
   "outputs": [],
   "source": [
    "model = NeuralNet(num_hidden_layers=5).to(device)\n",
    "\n",
    "model = train(model, X_train, y_train, X_val, y_val)\n",
    "report = test(model, X_test, y_test)"
   ]
  },
  {
   "cell_type": "markdown",
   "id": "65d3404f",
   "metadata": {},
   "source": [
    "### Visualization"
   ]
  },
  {
   "cell_type": "code",
   "execution_count": null,
   "id": "f86e9bc3",
   "metadata": {},
   "outputs": [],
   "source": [
    "vis_model = NeuralNet(num_hidden_layers=5)\n",
    "\n",
    "trained_vis_model = train(\n",
    "    vis_model,\n",
    "    X_train,\n",
    "    y_train,\n",
    "    X_val,\n",
    "    y_val,\n",
    "    num_epoch=50,\n",
    "    visualize=True\n",
    ")\n",
    "\n",
    "print(\"\\nVisualization complete!\")"
   ]
  }
 ],
 "metadata": {
  "kernelspec": {
   "display_name": ".venv",
   "language": "python",
   "name": "python3"
  },
  "language_info": {
   "codemirror_mode": {
    "name": "ipython",
    "version": 3
   },
   "file_extension": ".py",
   "mimetype": "text/x-python",
   "name": "python",
   "nbconvert_exporter": "python",
   "pygments_lexer": "ipython3",
   "version": "3.12.3"
  }
 },
 "nbformat": 4,
 "nbformat_minor": 5
}
