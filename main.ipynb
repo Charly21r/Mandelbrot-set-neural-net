{
 "cells": [
  {
   "cell_type": "code",
   "execution_count": 84,
   "id": "ac002936",
   "metadata": {},
   "outputs": [],
   "source": [
    "import numpy as np\n",
    "import pandas as pd\n",
    "import torch\n",
    "import torch.nn as nn\n",
    "import torch.optim as optim\n",
    "import matplotlib.pyplot as plt\n"
   ]
  },
  {
   "cell_type": "markdown",
   "id": "605ec84e",
   "metadata": {},
   "source": [
    "### The Mandelbrot set\n",
    "The Mandelbrot set is a two-dimensional set that is defined in the complex plane as the complex numbers $c$ for which the function $f_c(z) = z^2 + c $ does not diverge to infinity when iterated starting at $z=0$.\n",
    "\n",
    "Interesting properties:\n",
    "- A point c belongs to the Mandelbrot set iff $|z| \\leq 2$ for all $n \\geq 0$\n",
    "\n",
    "### Representing complex numbers\n",
    "\n",
    "To represent the complex numbers, I will use an array of two float, where the first element represents the real part and the second element the imaginary part."
   ]
  },
  {
   "cell_type": "code",
   "execution_count": 69,
   "id": "637b951f",
   "metadata": {},
   "outputs": [],
   "source": [
    "def square(x):\n",
    "    result = [0, 0]\n",
    "\n",
    "    result[0] = x[0]**2 - x[1]**2\n",
    "    result[1] = 2 * x[0] * x[1]\n",
    "\n",
    "    return result\n",
    "\n",
    "\n",
    "def compute(c, z):\n",
    "    \"\"\"Compute z^2 + c\"\"\"\n",
    "    z_square = square(z)\n",
    "    return [c[0] + z_square[0] , c[1] + z_square[1]]\n",
    "\n",
    "\n",
    "def isInMandelbrotSet(c, z=[0, 0], max_iter=1000, n=0) -> bool:\n",
    "    if z[0]**2 + z[1]**2 > 4:\n",
    "        return False\n",
    "    \n",
    "    if n==max_iter:\n",
    "        return True\n",
    "\n",
    "    return isInMandelbrotSet(c, compute(c, z), max_iter, n+1)\n"
   ]
  },
  {
   "cell_type": "code",
   "execution_count": 70,
   "id": "0f8f58ff",
   "metadata": {},
   "outputs": [
    {
     "name": "stdout",
     "output_type": "stream",
     "text": [
      "Is [-1,0] in the set?: True\n",
      "Is [1,0] in the set?: False\n"
     ]
    }
   ],
   "source": [
    "print(f\"Is [-1,0] in the set?: {isInMandelbrotSet([-1, 0])}\")  # should be true\n",
    "print(f\"Is [1,0] in the set?: {isInMandelbrotSet([1, 0])}\")  # should be false"
   ]
  },
  {
   "cell_type": "markdown",
   "id": "454821ee",
   "metadata": {},
   "source": [
    "### Creating a dataset"
   ]
  },
  {
   "cell_type": "code",
   "execution_count": 71,
   "id": "406ee94d",
   "metadata": {},
   "outputs": [],
   "source": [
    "# Define the range for the real and imaginary parts\n",
    "real_range = np.linspace(-2, 1, 50)\n",
    "imag_range = np.linspace(-1.5, 1.5, 50)\n",
    "\n",
    "data = []\n",
    "for a in real_range:\n",
    "    for b in imag_range:\n",
    "        c = [a, b]\n",
    "        is_in_set = isInMandelbrotSet(c)\n",
    "        data.append({\n",
    "            'real': a,\n",
    "            'imag': b,\n",
    "            'in_mandelbrot_set': is_in_set\n",
    "        })\n",
    "\n",
    "df = pd.DataFrame(data)"
   ]
  },
  {
   "cell_type": "code",
   "execution_count": 72,
   "id": "7fa6cbf0",
   "metadata": {},
   "outputs": [
    {
     "data": {
      "text/html": [
       "<div>\n",
       "<style scoped>\n",
       "    .dataframe tbody tr th:only-of-type {\n",
       "        vertical-align: middle;\n",
       "    }\n",
       "\n",
       "    .dataframe tbody tr th {\n",
       "        vertical-align: top;\n",
       "    }\n",
       "\n",
       "    .dataframe thead th {\n",
       "        text-align: right;\n",
       "    }\n",
       "</style>\n",
       "<table border=\"1\" class=\"dataframe\">\n",
       "  <thead>\n",
       "    <tr style=\"text-align: right;\">\n",
       "      <th></th>\n",
       "      <th>real</th>\n",
       "      <th>imag</th>\n",
       "      <th>in_mandelbrot_set</th>\n",
       "    </tr>\n",
       "  </thead>\n",
       "  <tbody>\n",
       "    <tr>\n",
       "      <th>0</th>\n",
       "      <td>-2.0</td>\n",
       "      <td>-1.500000</td>\n",
       "      <td>False</td>\n",
       "    </tr>\n",
       "    <tr>\n",
       "      <th>1</th>\n",
       "      <td>-2.0</td>\n",
       "      <td>-1.438776</td>\n",
       "      <td>False</td>\n",
       "    </tr>\n",
       "    <tr>\n",
       "      <th>2</th>\n",
       "      <td>-2.0</td>\n",
       "      <td>-1.377551</td>\n",
       "      <td>False</td>\n",
       "    </tr>\n",
       "    <tr>\n",
       "      <th>3</th>\n",
       "      <td>-2.0</td>\n",
       "      <td>-1.316327</td>\n",
       "      <td>False</td>\n",
       "    </tr>\n",
       "    <tr>\n",
       "      <th>4</th>\n",
       "      <td>-2.0</td>\n",
       "      <td>-1.255102</td>\n",
       "      <td>False</td>\n",
       "    </tr>\n",
       "    <tr>\n",
       "      <th>...</th>\n",
       "      <td>...</td>\n",
       "      <td>...</td>\n",
       "      <td>...</td>\n",
       "    </tr>\n",
       "    <tr>\n",
       "      <th>2495</th>\n",
       "      <td>1.0</td>\n",
       "      <td>1.255102</td>\n",
       "      <td>False</td>\n",
       "    </tr>\n",
       "    <tr>\n",
       "      <th>2496</th>\n",
       "      <td>1.0</td>\n",
       "      <td>1.316327</td>\n",
       "      <td>False</td>\n",
       "    </tr>\n",
       "    <tr>\n",
       "      <th>2497</th>\n",
       "      <td>1.0</td>\n",
       "      <td>1.377551</td>\n",
       "      <td>False</td>\n",
       "    </tr>\n",
       "    <tr>\n",
       "      <th>2498</th>\n",
       "      <td>1.0</td>\n",
       "      <td>1.438776</td>\n",
       "      <td>False</td>\n",
       "    </tr>\n",
       "    <tr>\n",
       "      <th>2499</th>\n",
       "      <td>1.0</td>\n",
       "      <td>1.500000</td>\n",
       "      <td>False</td>\n",
       "    </tr>\n",
       "  </tbody>\n",
       "</table>\n",
       "<p>2500 rows × 3 columns</p>\n",
       "</div>"
      ],
      "text/plain": [
       "      real      imag  in_mandelbrot_set\n",
       "0     -2.0 -1.500000              False\n",
       "1     -2.0 -1.438776              False\n",
       "2     -2.0 -1.377551              False\n",
       "3     -2.0 -1.316327              False\n",
       "4     -2.0 -1.255102              False\n",
       "...    ...       ...                ...\n",
       "2495   1.0  1.255102              False\n",
       "2496   1.0  1.316327              False\n",
       "2497   1.0  1.377551              False\n",
       "2498   1.0  1.438776              False\n",
       "2499   1.0  1.500000              False\n",
       "\n",
       "[2500 rows x 3 columns]"
      ]
     },
     "execution_count": 72,
     "metadata": {},
     "output_type": "execute_result"
    }
   ],
   "source": [
    "df"
   ]
  },
  {
   "cell_type": "code",
   "execution_count": 73,
   "id": "b0d89d7d",
   "metadata": {},
   "outputs": [
    {
     "data": {
      "text/plain": [
       "in_mandelbrot_set\n",
       "False    2094\n",
       "True      406\n",
       "Name: count, dtype: int64"
      ]
     },
     "execution_count": 73,
     "metadata": {},
     "output_type": "execute_result"
    }
   ],
   "source": [
    "df['in_mandelbrot_set'].value_counts()"
   ]
  },
  {
   "cell_type": "code",
   "execution_count": 74,
   "id": "a7c0f7e2",
   "metadata": {},
   "outputs": [],
   "source": [
    "from sklearn.model_selection import train_test_split\n",
    "\n",
    "X = df.drop(columns=[\"in_mandelbrot_set\"])\n",
    "y = df[\"in_mandelbrot_set\"]\n",
    "\n",
    "# Using stratified split\n",
    "X_train, X_test, y_train, y_test = train_test_split(\n",
    "    X, y, test_size=0.2, stratify=y, random_state=42, shuffle=True\n",
    ")\n",
    "\n",
    "# Create validation set\n",
    "X_train, X_val, y_train, y_val = train_test_split(\n",
    "    X_train, y_train, test_size=0.15, stratify=y_train, random_state=42\n",
    ")\n"
   ]
  },
  {
   "cell_type": "markdown",
   "id": "93aa35c8",
   "metadata": {},
   "source": [
    "### Neural Network"
   ]
  },
  {
   "cell_type": "code",
   "execution_count": 75,
   "id": "dcd2d2fb",
   "metadata": {},
   "outputs": [],
   "source": [
    "class NeuralNet(nn.Module):\n",
    "    def __init__(self, num_hidden_layers=3):\n",
    "        super().__init__()\n",
    "        \n",
    "        layers = [\n",
    "            nn.Linear(2, 32),\n",
    "            nn.ReLU(),\n",
    "        ]\n",
    "\n",
    "        for _ in range(num_hidden_layers):\n",
    "            layers.append(\n",
    "                nn.Linear(32, 32)\n",
    "            )\n",
    "            layers.append(\n",
    "                nn.ReLU()\n",
    "            )\n",
    "        \n",
    "        # Output\n",
    "        layers.append(\n",
    "            nn.Linear(32, 1)\n",
    "        )\n",
    "        self.sigmoid_layer = nn.Sigmoid()\n",
    "        self.network = nn.Sequential(*layers)\n",
    "\n",
    "    def forward(self, x):\n",
    "        x = self.network(x)\n",
    "        return self.sigmoid_layer(x)"
   ]
  },
  {
   "cell_type": "code",
   "execution_count": 76,
   "id": "bfa7494f",
   "metadata": {},
   "outputs": [],
   "source": [
    "mandelbrot_net = NeuralNet()"
   ]
  },
  {
   "cell_type": "markdown",
   "id": "a7eda3df",
   "metadata": {},
   "source": [
    "### Training Loop"
   ]
  },
  {
   "cell_type": "code",
   "execution_count": 87,
   "id": "cf2e4e66",
   "metadata": {},
   "outputs": [
    {
     "name": "stdout",
     "output_type": "stream",
     "text": [
      "Epoch: 1, Train Loss: 0.061070048829389954, Val Loss: 0.07241255493213733\n",
      "Epoch: 2, Train Loss: 0.060677313902415334, Val Loss: 0.07202169370527069\n",
      "Epoch: 3, Train Loss: 0.06046980100930394, Val Loss: 0.07177859727293252\n",
      "Epoch: 4, Train Loss: 0.060270069215022135, Val Loss: 0.07158636840681235\n",
      "Epoch: 5, Train Loss: 0.060075402076301326, Val Loss: 0.07141385629152258\n",
      "Epoch: 6, Train Loss: 0.059874097318388525, Val Loss: 0.07121424774328868\n",
      "Epoch: 7, Train Loss: 0.05968259379322476, Val Loss: 0.07101499227186044\n",
      "Epoch: 8, Train Loss: 0.05948409334845457, Val Loss: 0.07083099408075214\n",
      "Epoch: 9, Train Loss: 0.05930196188253296, Val Loss: 0.070671467098097\n",
      "Epoch: 10, Train Loss: 0.05911680405507522, Val Loss: 0.07045842533310255\n",
      "Epoch: 11, Train Loss: 0.05894101675723077, Val Loss: 0.07035624944294493\n",
      "Epoch: 12, Train Loss: 0.05875217411858851, Val Loss: 0.07015737374002735\n",
      "Epoch: 13, Train Loss: 0.05856836686369634, Val Loss: 0.06999396490554015\n",
      "Epoch: 14, Train Loss: 0.05837693704915343, Val Loss: 0.06983064746794601\n",
      "Epoch: 15, Train Loss: 0.05819217888241195, Val Loss: 0.0696492612703393\n",
      "Epoch: 16, Train Loss: 0.05802318514865713, Val Loss: 0.06955953038297594\n",
      "Epoch: 17, Train Loss: 0.05784014387994402, Val Loss: 0.069376574040701\n",
      "Epoch: 18, Train Loss: 0.05764979192240657, Val Loss: 0.06923217482864857\n",
      "Epoch: 19, Train Loss: 0.057481328986879604, Val Loss: 0.06910658777380983\n",
      "Epoch: 20, Train Loss: 0.05729953446815831, Val Loss: 0.06896221342496574\n"
     ]
    },
    {
     "data": {
      "image/png": "[encoded data removed]",
      "text/plain": [
       "<Figure size 1000x600 with 1 Axes>"
      ]
     },
     "metadata": {},
     "output_type": "display_data"
    }
   ],
   "source": [
    "from torch.utils.data import TensorDataset, DataLoader\n",
    "\n",
    "NUM_EPOCH = 20\n",
    "LEARNING_RATE = 0.0001\n",
    "BATCH_SIZE = 16\n",
    "\n",
    "criterion = nn.BCELoss()\n",
    "optimizer = optim.Adam(mandelbrot_net.parameters(), lr=LEARNING_RATE)\n",
    "\n",
    "# Convert data to PyTorch tensors\n",
    "X_train_tensor = torch.tensor(X_train.values, dtype=torch.float32)\n",
    "y_train_tensor = torch.tensor(y_train.values, dtype=torch.float32).unsqueeze(1) # Convert target to float and unsqueeze for BCEWithLogitsLoss\n",
    "\n",
    "# Create a TensorDataset and DataLoader\n",
    "train_dataset = TensorDataset(X_train_tensor, y_train_tensor)\n",
    "train_loader = DataLoader(train_dataset, batch_size=BATCH_SIZE, shuffle=False)\n",
    "\n",
    "# Convert data to PyTorch tensors\n",
    "X_val_tensor = torch.tensor(X_val.values, dtype=torch.float32)\n",
    "y_val_tensor = torch.tensor(y_val.values, dtype=torch.float32).unsqueeze(1) # Convert target to float and unsqueeze for BCEWithLogitsLoss\n",
    "\n",
    "# Create a TensorDataset and DataLoader\n",
    "val_dataset = TensorDataset(X_val_tensor, y_val_tensor)\n",
    "val_loader = DataLoader(val_dataset, batch_size=BATCH_SIZE, shuffle=False)\n",
    "\n",
    "\n",
    "train_losses = []\n",
    "val_losses = []\n",
    "\n",
    "# Training loop\n",
    "for epoch in range(NUM_EPOCH):\n",
    "    mandelbrot_net.train() # Set the model to training mode\n",
    "    train_loss = 0\n",
    "    for batch_X, batch_y in train_loader:\n",
    "        # Forward pass\n",
    "        outputs = mandelbrot_net(batch_X)\n",
    "        loss = criterion(outputs, batch_y)\n",
    "\n",
    "        # Backward pass and optimize\n",
    "        optimizer.zero_grad()\n",
    "        loss.backward()\n",
    "        optimizer.step()\n",
    "\n",
    "        train_loss += loss.item() * batch_X.size(0)\n",
    "    \n",
    "    mandelbrot_net.eval() # Set the model to training mode\n",
    "    val_loss = 0\n",
    "    with torch.no_grad():\n",
    "        correct = 0\n",
    "        total = 0\n",
    "        \n",
    "        for batch_X, batch_y in val_loader:\n",
    "            outputs = mandelbrot_net(batch_X)\n",
    "            loss = criterion(outputs, batch_y)\n",
    "\n",
    "            val_loss += loss.item() * batch_X.size(0)\n",
    "    \n",
    "    avg_train_loss = train_loss / len(train_loader.dataset)\n",
    "    avg_val_loss = val_loss / len(val_loader.dataset)\n",
    "    # Store losses\n",
    "    train_losses.append(avg_train_loss)\n",
    "    val_losses.append(avg_val_loss)\n",
    "    print(f\"Epoch: {epoch+1}, Train Loss: {avg_train_loss}, Val Loss: {avg_val_loss}\")\n",
    "\n",
    "\n",
    "# Plot the learning curves\n",
    "plt.figure(figsize=(10, 6))\n",
    "plt.plot(train_losses, label=\"Training loss\")\n",
    "plt.plot(val_losses, label=\"Validation loss\")\n",
    "plt.title(\"Learning Curves\")\n",
    "plt.xlabel(\"Epoch\")\n",
    "plt.ylabel(\"Loss\")\n",
    "plt.legend()\n",
    "plt.show()"
   ]
  },
  {
   "cell_type": "markdown",
   "id": "82c58e66",
   "metadata": {},
   "source": [
    "### Testing Loop"
   ]
  },
  {
   "cell_type": "code",
   "execution_count": 86,
   "id": "6328b0f6",
   "metadata": {},
   "outputs": [
    {
     "name": "stdout",
     "output_type": "stream",
     "text": [
      "Test Accuracy: 0.9680\n",
      "\n",
      "Classification Report:\n",
      "              precision    recall  f1-score   support\n",
      "\n",
      "         0.0       0.99      0.98      0.98       419\n",
      "         1.0       0.88      0.93      0.90        81\n",
      "\n",
      "    accuracy                           0.97       500\n",
      "   macro avg       0.93      0.95      0.94       500\n",
      "weighted avg       0.97      0.97      0.97       500\n",
      "\n",
      "Confusion Matrix:\n",
      "[[409  10]\n",
      " [  6  75]]\n"
     ]
    }
   ],
   "source": [
    "from sklearn.metrics import accuracy_score, confusion_matrix, classification_report\n",
    "\n",
    "# Convert data to Pytorch tensors\n",
    "X_test_tensor = torch.tensor(X_test.values, dtype=torch.float32)\n",
    "y_test_tensor = torch.tensor(y_test.values, dtype=torch.float32).unsqueeze(1)\n",
    "\n",
    "# Create a TensorDataset and DataLoader\n",
    "test_dataset = TensorDataset(X_test_tensor, y_test_tensor)\n",
    "test_loader = DataLoader(test_dataset, batch_size=BATCH_SIZE, shuffle=True)\n",
    "\n",
    "# Evaluation mode\n",
    "mandelbrot_net.eval() \n",
    "\n",
    "with torch.no_grad():\n",
    "    y_pred_tensor = mandelbrot_net(X_test_tensor)\n",
    "    \n",
    "    # Convert probabilities to binary predictions (0 or 1)\n",
    "    y_pred = (y_pred_tensor > 0.5).float() \n",
    "\n",
    "    # Calculate metrics\n",
    "    accuracy = accuracy_score(y_test_tensor.numpy(), y_pred.numpy())\n",
    "    print(f\"Test Accuracy: {accuracy:.4f}\\n\")\n",
    "    \n",
    "    print(\"Classification Report:\")\n",
    "    print(classification_report(y_test_tensor.numpy(), y_pred.numpy()))\n",
    "    \n",
    "    print(\"Confusion Matrix:\")\n",
    "    print(confusion_matrix(y_test_tensor.numpy(), y_pred.numpy()))"
   ]
  }
 ],
 "metadata": {
  "kernelspec": {
   "display_name": ".venv",
   "language": "python",
   "name": "python3"
  },
  "language_info": {
   "codemirror_mode": {
    "name": "ipython",
    "version": 3
   },
   "file_extension": ".py",
   "mimetype": "text/x-python",
   "name": "python",
   "nbconvert_exporter": "python",
   "pygments_lexer": "ipython3",
   "version": "3.12.3"
  }
 },
 "nbformat": 4,
 "nbformat_minor": 5
}
