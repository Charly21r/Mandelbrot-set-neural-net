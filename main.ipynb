{
 "cells": [
  {
   "cell_type": "markdown",
   "id": "605ec84e",
   "metadata": {},
   "source": [
    "### The Mandelbrot set\n",
    "The Mandelbrot set is a two-dimensional set that is defined in the complex plane as the complex numbers $c$ for which the function $f_c(z) = z^2 + c $ does not diverge to infinity when iterated starting at $z=0$.\n",
    "\n",
    "Interesting properties:\n",
    "- A point c belongs to the Mandelbrot set iff $|z| \\leq 2$ for all $n \\geq 0$\n",
    "\n",
    "### Representing complex numbers\n",
    "\n",
    "To represent the complex numbers, I will use an array of two float, where the first element represents the real part and the second element the imaginary part."
   ]
  },
  {
   "cell_type": "code",
   "execution_count": null,
   "id": "637b951f",
   "metadata": {},
   "outputs": [],
   "source": [
    "def square(x):\n",
    "    result = [0, 0]\n",
    "\n",
    "    result[0] = x[0]**2 - x[1]**2\n",
    "    result[1] = 2 * x[0] * x[1]\n",
    "\n",
    "    return result\n",
    "\n",
    "\n",
    "def compute(c, z):\n",
    "    \"\"\"Compute z^2 + c\"\"\"\n",
    "    z_square = square(z)\n",
    "    return [c[0] + z_square[0] , c[1] + z_square[1]]\n",
    "\n",
    "\n",
    "def isInMandelbrotSet(c, z=[0, 0], max_iter=1000, n=0) -> bool:\n",
    "    if z[0]**2 + z[1]**2 > 4:\n",
    "        return False\n",
    "    \n",
    "    if n==max_iter:\n",
    "        return True\n",
    "\n",
    "    return isInMandelbrotSet(c, compute(c, z), max_iter, n+1)\n"
   ]
  },
  {
   "cell_type": "code",
   "execution_count": 26,
   "id": "0f8f58ff",
   "metadata": {},
   "outputs": [
    {
     "name": "stdout",
     "output_type": "stream",
     "text": [
      "Is [-1,0] in the set?: True\n",
      "Is [1,0] in the set?: False\n"
     ]
    }
   ],
   "source": [
    "print(f\"Is [-1,0] in the set?: {isInMandelbrotSet([-1, 0])}\")  # should be true\n",
    "print(f\"Is [1,0] in the set?: {isInMandelbrotSet([1, 0])}\")  # should be false"
   ]
  }
 ],
 "metadata": {
  "kernelspec": {
   "display_name": ".venv",
   "language": "python",
   "name": "python3"
  },
  "language_info": {
   "codemirror_mode": {
    "name": "ipython",
    "version": 3
   },
   "file_extension": ".py",
   "mimetype": "text/x-python",
   "name": "python",
   "nbconvert_exporter": "python",
   "pygments_lexer": "ipython3",
   "version": "3.10.12"
  }
 },
 "nbformat": 4,
 "nbformat_minor": 5
}
